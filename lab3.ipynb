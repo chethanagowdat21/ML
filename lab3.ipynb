{
  "nbformat": 4,
  "nbformat_minor": 0,
  "metadata": {
    "colab": {
      "provenance": []
    },
    "kernelspec": {
      "name": "python3",
      "display_name": "Python 3"
    },
    "language_info": {
      "name": "python"
    }
  },
  "cells": [
    {
      "cell_type": "markdown",
      "metadata": {
        "id": "60348618"
      },
      "source": [
        "Let's try reading the file as a CSV (Comma Separated Values). This is a common format for tabular data."
      ]
    },
    {
      "cell_type": "markdown",
      "metadata": {
        "id": "a8359ca6"
      },
      "source": [
        "If reading as CSV didn't work, let's try reading it as a generic delimited text file. If it's tab-separated, space-separated, or uses another delimiter, `read_csv` with a different `sep` might work. If it's fixed-width, `read_fwf` might be needed, but let's try `read_csv` with common delimiters first."
      ]
    },
    {
      "cell_type": "markdown",
      "metadata": {
        "id": "5f6343b4"
      },
      "source": [
        "# Task\n",
        "Solve questions A1 to A9 from the PDF file \"/content/Lab03 (1)[1].pdf\" using the data from the file \"/proj_dataset.xlsx\"."
      ]
    },
    {
      "cell_type": "markdown",
      "metadata": {
        "id": "561c5be5"
      },
      "source": [
        "## Inspect the dataset file format\n",
        "\n",
        "### Subtask:\n",
        "Investigate the `/proj_dataset.xlsx` file to determine its actual format, since `read_excel` and `read_csv` failed. This might involve examining the file's binary content.\n"
      ]
    },
    {
      "cell_type": "markdown",
      "metadata": {
        "id": "b326cf42"
      },
      "source": [
        "**Reasoning**:\n",
        "The previous attempts to read the file as Excel and CSV failed, indicating the file format is likely neither of those. To determine the actual file type, I need to examine the file's binary content and look at its signature. I will open the file in binary mode, read the first few bytes, and print them in hexadecimal format to identify the file type.\n",
        "\n"
      ]
    },
    {
      "cell_type": "markdown",
      "metadata": {
        "id": "3313894a"
      },
      "source": [
        "## Load the dataset\n",
        "\n",
        "### Subtask:\n",
        "Based on the file format inspection, find the correct way to load the data from `/proj_dataset.xlsx` into a pandas DataFrame.\n"
      ]
    },
    {
      "cell_type": "markdown",
      "metadata": {
        "id": "62513be2"
      },
      "source": [
        "**Reasoning**:\n",
        "Attempt to read the file as a plain text file without specifying a delimiter, letting pandas infer the structure, as standard methods failed.\n",
        "\n"
      ]
    },
    {
      "cell_type": "markdown",
      "metadata": {
        "id": "baebe718"
      },
      "source": [
        "**Reasoning**:\n",
        "The previous attempt failed because pandas was not imported. I need to import pandas before using `read_csv`.\n",
        "\n"
      ]
    },
    {
      "cell_type": "markdown",
      "metadata": {
        "id": "aa45442c"
      },
      "source": [
        "**Reasoning**:\n",
        "The previous attempt failed because the file path was incorrect. I need to use the correct file path for the dataset. I will also add a check for the file existence.\n",
        "\n"
      ]
    },
    {
      "cell_type": "markdown",
      "metadata": {
        "id": "4ac16b5c"
      },
      "source": [
        "**Reasoning**:\n",
        "The file path is still incorrect. I need to use the file path `/proj_dataset.xlsx` as it was used in previous successful file operations in the notebook.\n",
        "\n"
      ]
    },
    {
      "cell_type": "markdown",
      "metadata": {
        "id": "1db4b95d"
      },
      "source": [
        "## Summary:\n",
        "\n",
        "### Data Analysis Key Findings\n",
        "\n",
        "*   Attempts to load the dataset from `/proj_dataset.xlsx` using standard methods like `pd.read_excel` and `pd.read_csv` failed.\n",
        "*   Inspecting the file signature revealed it does not match known signatures for standard Excel or CSV files.\n",
        "*   Further attempts to read the file as a generic text file using `pd.read_csv` with `sep=None` also failed, primarily due to the file not being found at the specified paths.\n",
        "*   The dataset could not be successfully loaded into a pandas DataFrame using the methods attempted.\n",
        "\n",
        "### Insights or Next Steps\n",
        "\n",
        "*   The file `/proj_dataset.xlsx` is not a standard file format recognizable by common pandas functions.\n",
        "*   Investigate alternative methods for reading the file, potentially involving identifying the actual file type or using specialized libraries if the format can be determined.\n"
      ]
    },
    {
      "cell_type": "markdown",
      "metadata": {
        "id": "27bd1cea"
      },
      "source": [
        "## Load the dataset\n",
        "\n",
        "### Subtask:\n",
        "Based on the file format inspection, find the correct way to load the data from `/proj_dataset.xlsx` into a pandas DataFrame."
      ]
    },
    {
      "cell_type": "markdown",
      "metadata": {
        "id": "41284d9d"
      },
      "source": [
        "**Reasoning**:\n",
        "The previous attempts to read the file as Excel and CSV failed, and inspecting the file signature did not immediately reveal a standard format. Given the errors encountered, it's possible the file is a plain text file with an unusual encoding or structure, or it might be in a format that requires a different reading approach. I will try reading the file again as a plain text file, this time specifying a common encoding like 'latin-1' or 'cp1252' which might be able to handle the bytes that caused the 'utf-8' decoding error. I will also use `error_bad_lines=False` and `warn_bad_lines=True` (though these are deprecated in newer pandas versions, they can still be helpful for debugging) to see if pandas can skip problematic lines and give us a partial read or warnings."
      ]
    },
    {
      "cell_type": "code",
      "source": [
        "import numpy as np\n",
        "\n",
        "# Create a mock dataset\n",
        "def create_mock_meg_data(num_samples=100, num_features=20):\n",
        "    \"\"\"\n",
        "    Generates a synthetic dataset for a two-class problem.\n",
        "    Features are designed to have slightly different distributions for each class.\n",
        "    :param num_samples: Total number of samples.\n",
        "    :param num_features: Number of MEG wave features (e.g., different sensors).\n",
        "    :return: A tuple of feature matrix X and class labels y.\n",
        "    \"\"\"\n",
        "    # Create two classes with slightly different means\n",
        "    class_0_data = np.random.randn(num_samples // 2, num_features) * 2 + 5\n",
        "    class_1_data = np.random.randn(num_samples // 2, num_features) * 2 + 7\n",
        "\n",
        "    # Concatenate data and create labels\n",
        "    X = np.vstack([class_0_data, class_1_data])\n",
        "    y = np.hstack([np.zeros(num_samples // 2), np.ones(num_samples // 2)])\n",
        "\n",
        "    # Shuffle the data\n",
        "    permutation = np.random.permutation(len(X))\n",
        "    X = X[permutation]\n",
        "    y = y[permutation]\n",
        "\n",
        "    return X, y\n",
        "\n",
        "# Main program to generate data\n",
        "if __name__ == \"__main__\":\n",
        "    X, y = create_mock_meg_data()\n",
        "    print(\"Mock Dataset created.\")\n",
        "    print(\"Feature matrix shape (X):\", X.shape)\n",
        "    print(\"Label vector shape (y):\", y.shape)"
      ],
      "metadata": {
        "colab": {
          "base_uri": "https://localhost:8080/"
        },
        "id": "PTYuTxw3KEJT",
        "outputId": "4500e3bc-d76b-4828-ea8c-e37dc907000b"
      },
      "execution_count": 12,
      "outputs": [
        {
          "output_type": "stream",
          "name": "stdout",
          "text": [
            "Mock Dataset created.\n",
            "Feature matrix shape (X): (100, 20)\n",
            "Label vector shape (y): (100,)\n"
          ]
        }
      ]
    },
    {
      "cell_type": "code",
      "source": [
        "import numpy as np\n",
        "\n",
        "def evaluate_class_separation(X, y):\n",
        "    \"\"\"\n",
        "    Calculates intraclass spread and interclass distance for a two-class dataset.\n",
        "    :param X: Feature matrix.\n",
        "    :param y: Class labels.\n",
        "    :return: A dictionary containing all calculated metrics.\n",
        "    \"\"\"\n",
        "    class_0_data = X[y == 0]\n",
        "    class_1_data = X[y == 1]\n",
        "\n",
        "    # Calculate mean (centroid) for each class\n",
        "    centroid_0 = np.mean(class_0_data, axis=0)\n",
        "    centroid_1 = np.mean(class_1_data, axis=0)\n",
        "\n",
        "    # Calculate spread (standard deviation) for each class\n",
        "    spread_0 = np.std(class_0_data, axis=0)\n",
        "    spread_1 = np.std(class_1_data, axis=0)\n",
        "\n",
        "    # Calculate distance between mean vectors (interclass distance)\n",
        "    interclass_distance = np.linalg.norm(centroid_0 - centroid_1)\n",
        "\n",
        "    return {\n",
        "        'centroid_0': centroid_0,\n",
        "        'spread_0': spread_0,\n",
        "        'centroid_1': centroid_1,\n",
        "        'spread_1': spread_1,\n",
        "        'interclass_distance': interclass_distance\n",
        "    }\n",
        "\n",
        "# Main program section\n",
        "if __name__ == \"__main__\":\n",
        "    X, y = create_mock_meg_data()\n",
        "    metrics = evaluate_class_separation(X, y)\n",
        "\n",
        "    print(\"\\n--- A1. Class Separation Metrics ---\")\n",
        "    print(f\"Centroid of Class 0: {metrics['centroid_0'][:5]}...\")\n",
        "    print(f\"Spread of Class 0: {metrics['spread_0'][:5]}...\")\n",
        "    print(f\"Centroid of Class 1: {metrics['centroid_1'][:5]}...\")\n",
        "    print(f\"Spread of Class 1: {metrics['spread_1'][:5]}...\")\n",
        "    print(f\"Distance between centroids: {metrics['interclass_distance']:.4f}\")"
      ],
      "metadata": {
        "colab": {
          "base_uri": "https://localhost:8080/"
        },
        "id": "ZHYTNQcvK1vo",
        "outputId": "d637c2d2-b496-4823-f146-f1bf9ea5e550"
      },
      "execution_count": 13,
      "outputs": [
        {
          "output_type": "stream",
          "name": "stdout",
          "text": [
            "\n",
            "--- A1. Class Separation Metrics ---\n",
            "Centroid of Class 0: [5.08335648 4.60169844 4.95376918 4.9253415  5.2490708 ]...\n",
            "Spread of Class 0: [1.56744069 2.04098264 2.04849248 1.95648636 1.99676734]...\n",
            "Centroid of Class 1: [7.18031457 6.62742464 7.31641157 6.83911714 6.76141833]...\n",
            "Spread of Class 1: [1.98451188 2.02280714 1.77368995 1.93809564 1.82574984]...\n",
            "Distance between centroids: 9.4052\n"
          ]
        }
      ]
    },
    {
      "cell_type": "code",
      "source": [
        "import numpy as np\n",
        "import matplotlib.pyplot as plt\n",
        "\n",
        "def analyze_feature_density(feature_data):\n",
        "    \"\"\"\n",
        "    Plots a histogram for a feature and returns its mean and variance.\n",
        "    :param feature_data: A single feature vector (1D array).\n",
        "    :return: A tuple of mean and variance.\n",
        "    \"\"\"\n",
        "    plt.hist(feature_data, bins=20, edgecolor='black', alpha=0.7)\n",
        "    plt.title('Feature Density Histogram')\n",
        "    plt.xlabel('Feature Value')\n",
        "    plt.ylabel('Frequency')\n",
        "    plt.grid(axis='y', alpha=0.5)\n",
        "    plt.show()\n",
        "\n",
        "    mean_val = np.mean(feature_data)\n",
        "    variance_val = np.var(feature_data)\n",
        "    return mean_val, variance_val\n",
        "\n",
        "# Main program section\n",
        "if __name__ == \"__main__\":\n",
        "    X, y = create_mock_meg_data()\n",
        "\n",
        "    # Pick the first feature for analysis\n",
        "    feature_to_analyze = X[:, 0]\n",
        "\n",
        "    print(\"\\n--- A2. Feature Density Analysis ---\")\n",
        "    mean, variance = analyze_feature_density(feature_to_analyze)\n",
        "    print(f\"Mean of the selected feature: {mean:.4f}\")\n",
        "    print(f\"Variance of the selected feature: {variance:.4f}\")\n",
        ""
      ],
      "metadata": {
        "colab": {
          "base_uri": "https://localhost:8080/",
          "height": 541
        },
        "id": "2e9JeTJJLAH2",
        "outputId": "b112e8d4-6d33-4ecb-b749-08f8774487df"
      },
      "execution_count": 14,
      "outputs": [
        {
          "output_type": "stream",
          "name": "stdout",
          "text": [
            "\n",
            "--- A2. Feature Density Analysis ---\n"
          ]
        },
        {
          "output_type": "display_data",
          "data": {
            "text/plain": [
              "<Figure size 640x480 with 1 Axes>"
            ],
            "image/png": "[encoded data removed]"
          },
          "metadata": {}
        },
        {
          "output_type": "stream",
          "name": "stdout",
          "text": [
            "Mean of the selected feature: 5.9993\n",
            "Variance of the selected feature: 4.2966\n"
          ]
        }
      ]
    },
    {
      "cell_type": "code",
      "source": [
        "import numpy as np\n",
        "import matplotlib.pyplot as plt\n",
        "\n",
        "def analyze_feature_density(feature_data):\n",
        "    \"\"\"\n",
        "    Plots a histogram for a feature and returns its mean and variance.\n",
        "    :param feature_data: A single feature vector (1D array).\n",
        "    :return: A tuple of mean and variance.\n",
        "    \"\"\"\n",
        "    plt.hist(feature_data, bins=20, edgecolor='black', alpha=0.7)\n",
        "    plt.title('Feature Density Histogram')\n",
        "    plt.xlabel('Feature Value')\n",
        "    plt.ylabel('Frequency')\n",
        "    plt.grid(axis='y', alpha=0.5)\n",
        "    plt.show()\n",
        "\n",
        "    mean_val = np.mean(feature_data)\n",
        "    variance_val = np.var(feature_data)\n",
        "    return mean_val, variance_val\n",
        "\n",
        "# Main program section\n",
        "if __name__ == \"__main__\":\n",
        "    X, y = create_mock_meg_data()\n",
        "\n",
        "    # Pick the first feature for analysis\n",
        "    feature_to_analyze = X[:, 0]\n",
        "\n",
        "    print(\"\\n--- A2. Feature Density Analysis ---\")\n",
        "    mean, variance = analyze_feature_density(feature_to_analyze)\n",
        "    print(f\"Mean of the selected feature: {mean:.4f}\")\n",
        "    print(f\"Variance of the selected feature: {variance:.4f}\")"
      ],
      "metadata": {
        "colab": {
          "base_uri": "https://localhost:8080/",
          "height": 541
        },
        "id": "avSJYKWGLMMn",
        "outputId": "0eb7149f-604a-41b2-a6e5-9d9fab4e763c"
      },
      "execution_count": 15,
      "outputs": [
        {
          "output_type": "stream",
          "name": "stdout",
          "text": [
            "\n",
            "--- A2. Feature Density Analysis ---\n"
          ]
        },
        {
          "output_type": "display_data",
          "data": {
            "text/plain": [
              "<Figure size 640x480 with 1 Axes>"
            ],
            "image/png": "[encoded data removed]"
          },
          "metadata": {}
        },
        {
          "output_type": "stream",
          "name": "stdout",
          "text": [
            "Mean of the selected feature: 6.2334\n",
            "Variance of the selected feature: 5.2968\n"
          ]
        }
      ]
    },
    {
      "cell_type": "code",
      "source": [
        "import numpy as np\n",
        "import matplotlib.pyplot as plt\n",
        "\n",
        "def calculate_minkowski_distances(vec1, vec2, r_range):\n",
        "    \"\"\"\n",
        "    Calculates Minkowski distance for a range of r values.\n",
        "    :param vec1: First feature vector.\n",
        "    :param vec2: Second feature vector.\n",
        "    :param r_range: A list or range of r values.\n",
        "    :return: A list of calculated distances.\n",
        "    \"\"\"\n",
        "    distances = [np.linalg.norm(vec1 - vec2, ord=r) for r in r_range]\n",
        "    return distances\n",
        "\n",
        "def plot_minkowski_distances(r_values, distances):\n",
        "    \"\"\"\n",
        "    Plots the Minkowski distance vs. r.\n",
        "    \"\"\"\n",
        "    plt.plot(r_values, distances, marker='o', linestyle='-', color='b')\n",
        "    plt.title('Minkowski Distance vs. r Value')\n",
        "    plt.xlabel('r')\n",
        "    plt.ylabel('Minkowski Distance')\n",
        "    plt.xticks(r_values)\n",
        "    plt.grid(True)\n",
        "    plt.show()\n",
        "\n",
        "# Main program section\n",
        "if __name__ == \"__main__\":\n",
        "    X, y = create_mock_meg_data()\n",
        "\n",
        "    # Take any two feature vectors from the dataset\n",
        "    vec1 = X[0]\n",
        "    vec2 = X[1]\n",
        "\n",
        "    r_values = range(1, 11)\n",
        "    distances = calculate_minkowski_distances(vec1, vec2, r_values)\n",
        "\n",
        "    print(\"\\n--- A3. Minkowski Distance Analysis ---\")\n",
        "    plot_minkowski_distances(r_values, distances)"
      ],
      "metadata": {
        "colab": {
          "base_uri": "https://localhost:8080/",
          "height": 507
        },
        "id": "n2Tp7GwGLmUB",
        "outputId": "f63130b4-1ad5-4c3c-b68b-615f63456af8"
      },
      "execution_count": 16,
      "outputs": [
        {
          "output_type": "stream",
          "name": "stdout",
          "text": [
            "\n",
            "--- A3. Minkowski Distance Analysis ---\n"
          ]
        },
        {
          "output_type": "display_data",
          "data": {
            "text/plain": [
              "<Figure size 640x480 with 1 Axes>"
            ],
            "image/png": "[encoded data removed]"
          },
          "metadata": {}
        }
      ]
    },
    {
      "cell_type": "code",
      "source": [
        "import numpy as np\n",
        "from sklearn.model_selection import train_test_split\n",
        "\n",
        "def split_dataset(X, y, test_size=0.3):\n",
        "    \"\"\"\n",
        "    Splits the dataset into training and testing sets.\n",
        "    :param X: Feature matrix.\n",
        "    :param y: Labels.\n",
        "    :param test_size: Proportion of the dataset for the test set[cite: 41].\n",
        "    :return: X_train, X_test, y_train, y_test.\n",
        "    \"\"\"\n",
        "    return train_test_split(X, y, test_size=test_size, random_state=42)\n",
        "\n",
        "# Main program section\n",
        "if __name__ == \"__main__\":\n",
        "    X, y = create_mock_meg_data()\n",
        "    X_train, X_test, y_train, y_test = split_dataset(X, y, test_size=0.3)\n",
        "\n",
        "    print(\"\\n--- A4. Data Splitting ---\")\n",
        "    print(f\"X_train shape: {X_train.shape}\")\n",
        "    print(f\"X_test shape: {X_test.shape}\")\n",
        "    print(f\"y_train shape: {y_train.shape}\")\n",
        "    print(f\"y_test shape: {y_test.shape}\")"
      ],
      "metadata": {
        "colab": {
          "base_uri": "https://localhost:8080/"
        },
        "id": "5xaD0UyDMLi-",
        "outputId": "fcfada6d-842c-494c-9c67-ec62396c81ca"
      },
      "execution_count": 17,
      "outputs": [
        {
          "output_type": "stream",
          "name": "stdout",
          "text": [
            "\n",
            "--- A4. Data Splitting ---\n",
            "X_train shape: (70, 20)\n",
            "X_test shape: (30, 20)\n",
            "y_train shape: (70,)\n",
            "y_test shape: (30,)\n"
          ]
        }
      ]
    },
    {
      "cell_type": "code",
      "source": [
        "from sklearn.neighbors import KNeighborsClassifier\n",
        "\n",
        "def train_knn_model(X_train, y_train, k=3):\n",
        "    \"\"\"\n",
        "    Trains a k-NN classifier.\n",
        "    :param X_train: Training features.\n",
        "    :param y_train: Training labels.\n",
        "    :param k: Number of neighbors[cite: 48].\n",
        "    :return: The trained KNN model.\n",
        "    \"\"\"\n",
        "    knn = KNeighborsClassifier(n_neighbors=k)\n",
        "    knn.fit(X_train, y_train)\n",
        "    return knn\n",
        "\n",
        "# Main program section\n",
        "if __name__ == \"__main__\":\n",
        "    X, y = create_mock_meg_data()\n",
        "    X_train, X_test, y_train, y_test = split_dataset(X, y)\n",
        "\n",
        "    print(\"\\n--- A5. KNN Classifier Training ---\")\n",
        "    knn_model = train_knn_model(X_train, y_train, k=3)\n",
        "    print(f\"k-NN model with k=3 trained successfully.\")"
      ],
      "metadata": {
        "colab": {
          "base_uri": "https://localhost:8080/"
        },
        "id": "6XaObdIDMSxf",
        "outputId": "5b9cd1f0-7306-424e-9f01-87378ed3f30f"
      },
      "execution_count": 18,
      "outputs": [
        {
          "output_type": "stream",
          "name": "stdout",
          "text": [
            "\n",
            "--- A5. KNN Classifier Training ---\n",
            "k-NN model with k=3 trained successfully.\n"
          ]
        }
      ]
    },
    {
      "cell_type": "code",
      "source": [
        "# Main program section\n",
        "if __name__ == \"__main__\":\n",
        "    X, y = create_mock_meg_data()\n",
        "    X_train, X_test, y_train, y_test = split_dataset(X, y)\n",
        "    knn_model = train_knn_model(X_train, y_train, k=3)\n",
        "\n",
        "    print(\"\\n--- A6. KNN Classifier Accuracy ---\")\n",
        "    accuracy = knn_model.score(X_test, y_test)\n",
        "    print(f\"Model accuracy on the test set: {accuracy:.4f}\")"
      ],
      "metadata": {
        "colab": {
          "base_uri": "https://localhost:8080/"
        },
        "id": "NM2oRl4ZMdSt",
        "outputId": "83b54238-c392-4a34-8989-eb09d4be329c"
      },
      "execution_count": 19,
      "outputs": [
        {
          "output_type": "stream",
          "name": "stdout",
          "text": [
            "\n",
            "--- A6. KNN Classifier Accuracy ---\n",
            "Model accuracy on the test set: 1.0000\n"
          ]
        }
      ]
    },
    {
      "cell_type": "code",
      "source": [
        "# Main program section\n",
        "if __name__ == \"__main__\":\n",
        "    X, y = create_mock_meg_data()\n",
        "    X_train, X_test, y_train, y_test = split_dataset(X, y)\n",
        "    knn_model = train_knn_model(X_train, y_train, k=3)\n",
        "\n",
        "    print(\"\\n--- A7. Prediction Behavior ---\")\n",
        "\n",
        "    # Predict for the entire test set\n",
        "    predictions = knn_model.predict(X_test)\n",
        "    print(\"First 10 predictions for the test set:\", predictions[:10])\n",
        "    print(\"Actual labels for the same 10 samples:\", y_test[:10])\n",
        "\n",
        "    # Predict for a single vector\n",
        "    single_vector = X_test[0].reshape(1, -1)\n",
        "    single_prediction = knn_model.predict(single_vector)\n",
        "    print(f\"\\nPrediction for the first test vector: {single_prediction[0]}\")\n",
        "    print(f\"Actual label: {y_test[0]}\")"
      ],
      "metadata": {
        "colab": {
          "base_uri": "https://localhost:8080/"
        },
        "id": "QQQanrIKMyoS",
        "outputId": "b5c5848c-c169-4aaa-c858-5dc8508594d8"
      },
      "execution_count": 20,
      "outputs": [
        {
          "output_type": "stream",
          "name": "stdout",
          "text": [
            "\n",
            "--- A7. Prediction Behavior ---\n",
            "First 10 predictions for the test set: [1. 0. 0. 0. 0. 0. 0. 1. 1. 1.]\n",
            "Actual labels for the same 10 samples: [1. 0. 0. 0. 1. 0. 0. 1. 1. 1.]\n",
            "\n",
            "Prediction for the first test vector: 1.0\n",
            "Actual label: 1.0\n"
          ]
        }
      ]
    },
    {
      "cell_type": "code",
      "source": [
        "import matplotlib.pyplot as plt\n",
        "\n",
        "def plot_accuracy_vs_k(X_train, y_train, X_test, y_test):\n",
        "    \"\"\"\n",
        "    Trains and evaluates k-NN for k from 1 to 11 and plots the results.\n",
        "    \"\"\"\n",
        "    k_range = range(1, 12)\n",
        "    accuracies = []\n",
        "\n",
        "    for k in k_range:\n",
        "        knn = KNeighborsClassifier(n_neighbors=k)\n",
        "        knn.fit(X_train, y_train)\n",
        "        accuracy = knn.score(X_test, y_test)\n",
        "        accuracies.append(accuracy)\n",
        "\n",
        "    plt.plot(k_range, accuracies, marker='o')\n",
        "    plt.title('k-NN Accuracy vs. k')\n",
        "    plt.xlabel('Number of Neighbors (k)')\n",
        "    plt.ylabel('Accuracy')\n",
        "    plt.xticks(k_range)\n",
        "    plt.grid(True)\n",
        "    plt.show()\n",
        "\n",
        "# Main program section\n",
        "if __name__ == \"__main__\":\n",
        "    X, y = create_mock_meg_data()\n",
        "    X_train, X_test, y_train, y_test = split_dataset(X, y)\n",
        "\n",
        "    print(\"\\n--- A8. Varying k and Accuracy Plot ---\")\n",
        "\n",
        "    # Compare k=1 and k=3\n",
        "    knn_k1 = train_knn_model(X_train, y_train, k=1)\n",
        "    accuracy_k1 = knn_k1.score(X_test, y_test)\n",
        "    print(f\"Accuracy for k=1: {accuracy_k1:.4f}\")\n",
        "\n",
        "    knn_k3 = train_knn_model(X_train, y_train, k=3)\n",
        "    accuracy_k3 = knn_k3.score(X_test, y_test)\n",
        "    print(f\"Accuracy for k=3: {accuracy_k3:.4f}\")\n",
        "\n",
        "    plot_accuracy_vs_k(X_train, y_train, X_test, y_test)"
      ],
      "metadata": {
        "colab": {
          "base_uri": "https://localhost:8080/",
          "height": 541
        },
        "id": "9_L9mZu9M7Qa",
        "outputId": "ad5d773a-9063-4633-d569-2651c839d376"
      },
      "execution_count": 21,
      "outputs": [
        {
          "output_type": "stream",
          "name": "stdout",
          "text": [
            "\n",
            "--- A8. Varying k and Accuracy Plot ---\n",
            "Accuracy for k=1: 0.9667\n",
            "Accuracy for k=3: 0.9667\n"
          ]
        },
        {
          "output_type": "display_data",
          "data": {
            "text/plain": [
              "<Figure size 640x480 with 1 Axes>"
            ],
            "image/png": "[encoded data removed]"
          },
          "metadata": {}
        }
      ]
    },
    {
      "cell_type": "code",
      "source": [
        "from sklearn.metrics import confusion_matrix, classification_report\n",
        "\n",
        "def evaluate_performance_metrics(model, X_train, y_train, X_test, y_test):\n",
        "    \"\"\"\n",
        "    Evaluates the model's performance on both training and test sets.\n",
        "    \"\"\"\n",
        "    # Training set evaluation\n",
        "    y_train_pred = model.predict(X_train)\n",
        "    cm_train = confusion_matrix(y_train, y_train_pred)\n",
        "    report_train = classification_report(y_train, y_train_pred)\n",
        "\n",
        "    print(\"--- Training Set Performance ---\")\n",
        "    print(\"Confusion Matrix:\\n\", cm_train)\n",
        "    print(\"Classification Report:\\n\", report_train)\n",
        "\n",
        "    # Test set evaluation\n",
        "    y_test_pred = model.predict(X_test)\n",
        "    cm_test = confusion_matrix(y_test, y_test_pred)\n",
        "    report_test = classification_report(y_test, y_test_pred)\n",
        "\n",
        "    print(\"\\n--- Test Set Performance ---\")\n",
        "    print(\"Confusion Matrix:\\n\", cm_test)\n",
        "    print(\"Classification Report:\\n\", report_test)\n",
        "\n",
        "    # Inference on model fit\n",
        "    train_accuracy = model.score(X_train, y_train)\n",
        "    test_accuracy = model.score(X_test, y_test)\n",
        "\n",
        "    print(f\"\\nTraining Accuracy: {train_accuracy:.4f}\")\n",
        "    print(f\"Test Accuracy: {test_accuracy:.4f}\")\n",
        "\n",
        "    if (train_accuracy - test_accuracy) > 0.15:\n",
        "        print(\"Inference: The model is likely overfit (high performance on train, poor on test).\")\n",
        "    elif train_accuracy < 0.6:\n",
        "        print(\"Inference: The model is likely underfit (poor performance on both).\")\n",
        "    else:\n",
        "        print(\"Inference: The model appears to have a regular fit (balanced performance).\")\n",
        "\n",
        "# Main program section\n",
        "if __name__ == \"__main__\":\n",
        "    X, y = create_mock_meg_data()\n",
        "    X_train, X_test, y_train, y_test = split_dataset(X, y)\n",
        "    knn_model = train_knn_model(X_train, y_train, k=3)\n",
        "\n",
        "    print(\"\\n--- A9. Confusion Matrix and Metrics ---\")\n",
        "    evaluate_performance_metrics(knn_model, X_train, y_train, X_test, y_test)"
      ],
      "metadata": {
        "colab": {
          "base_uri": "https://localhost:8080/"
        },
        "id": "ol8N5nBBNCqr",
        "outputId": "0ffe93d2-13d4-41e5-a939-ecb518cf1210"
      },
      "execution_count": 22,
      "outputs": [
        {
          "output_type": "stream",
          "name": "stdout",
          "text": [
            "\n",
            "--- A9. Confusion Matrix and Metrics ---\n",
            "--- Training Set Performance ---\n",
            "Confusion Matrix:\n",
            " [[36  0]\n",
            " [ 2 32]]\n",
            "Classification Report:\n",
            "               precision    recall  f1-score   support\n",
            "\n",
            "         0.0       0.95      1.00      0.97        36\n",
            "         1.0       1.00      0.94      0.97        34\n",
            "\n",
            "    accuracy                           0.97        70\n",
            "   macro avg       0.97      0.97      0.97        70\n",
            "weighted avg       0.97      0.97      0.97        70\n",
            "\n",
            "\n",
            "--- Test Set Performance ---\n",
            "Confusion Matrix:\n",
            " [[14  0]\n",
            " [ 0 16]]\n",
            "Classification Report:\n",
            "               precision    recall  f1-score   support\n",
            "\n",
            "         0.0       1.00      1.00      1.00        14\n",
            "         1.0       1.00      1.00      1.00        16\n",
            "\n",
            "    accuracy                           1.00        30\n",
            "   macro avg       1.00      1.00      1.00        30\n",
            "weighted avg       1.00      1.00      1.00        30\n",
            "\n",
            "\n",
            "Training Accuracy: 0.9714\n",
            "Test Accuracy: 1.0000\n",
            "Inference: The model appears to have a regular fit (balanced performance).\n"
          ]
        }
      ]
    }
  ]
}